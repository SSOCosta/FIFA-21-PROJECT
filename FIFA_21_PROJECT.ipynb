{
 "cells": [
  {
   "cell_type": "code",
   "execution_count": null,
   "id": "f70c1bae",
   "metadata": {},
   "outputs": [],
   "source": [
    "\"\"\"In the FIFA 21 Project we will try to predict a player's \"Overall Rating\" by analysing data from the following dataset: fifa21_train.csv\n",
    "It can be found in the GDrive.\n",
    "\n",
    "The database is an extract from https://sofifa.com/\n",
    "\n",
    "Explanations of the acronyms and abbreviations can be found here and here\"\"\""
   ]
  },
  {
   "cell_type": "code",
   "execution_count": null,
   "id": "9fb85d6e",
   "metadata": {},
   "outputs": [],
   "source": [
    "import pandas as pd\n",
    "import numpy as np"
   ]
  },
  {
   "cell_type": "code",
   "execution_count": null,
   "id": "f0cf2fea",
   "metadata": {},
   "outputs": [],
   "source": [
    "# opening the data file\n",
    "df = pd.read_csv('fifa21_train.csv')\n",
    "df"
   ]
  },
  {
   "cell_type": "code",
   "execution_count": null,
   "id": "32055450",
   "metadata": {},
   "outputs": [],
   "source": [
    "#Checking for the full column contents\n",
    "column_names = df.columns.tolist()\n",
    "column_names"
   ]
  },
  {
   "cell_type": "code",
   "execution_count": null,
   "id": "bea3e6ab",
   "metadata": {},
   "outputs": [],
   "source": [
    "# Making a copy of the original file\n",
    "fifa_df = df.copy()\n",
    "fifa_df"
   ]
  },
  {
   "cell_type": "code",
   "execution_count": null,
   "id": "c86bd623",
   "metadata": {},
   "outputs": [],
   "source": [
    "#columns_to_retain = [\n",
    "    #'BP', 'Position',\n",
    "    #'Attacking', 'Skill', 'Movement', 'Power', 'Mentality', 'Composure',\n",
    "     #'Defending','Goalkeeping', 'OVA','LS', 'ST', 'RS', 'LW', 'LF', 'CF',\n",
    "     #'RF', 'RW', 'LAM', 'CAM', 'RAM', 'LM', 'LCM', 'CM', 'RCM', 'RM', 'LWB',\n",
    "     #'LDM', 'CDM', 'RDM', 'RWB', 'LB', 'LCB', 'CB', 'RCB', 'RB', 'GK','OVA']\n",
    "\n",
    "columns_to_retain = [\n",
    "    'BP','Attacking','Crossing','Short Passing','Skill','Ball Control','FK Accuracy','Movement','Sprint Speed',\n",
    "    'Power','Shot Power', 'Strength', 'Mentality','Composure','Vision','Defending','Standing Tackle','Sliding Tackle','Goalkeeping',\n",
    "    'GK Reflexes','GK Handling','OVA']\n",
    "\n",
    "        \n",
    "# Get the dataframe filtered:\n",
    "fifa_df_filtered = fifa_df[columns_to_retain]\n",
    "fifa_df_filtered"
   ]
  },
  {
   "cell_type": "code",
   "execution_count": null,
   "id": "cf93e9ca",
   "metadata": {},
   "outputs": [],
   "source": [
    "# Check for duplicate values\n",
    "check_duplicates = fifa_df_filtered.duplicated()\n",
    "check_duplicates"
   ]
  },
  {
   "cell_type": "code",
   "execution_count": null,
   "id": "03e8427e",
   "metadata": {},
   "outputs": [],
   "source": [
    "# How many duplicate values\n",
    "num_duplicates = check_duplicates.sum()\n",
    "num_duplicates"
   ]
  },
  {
   "cell_type": "code",
   "execution_count": null,
   "id": "cdfed55b",
   "metadata": {
    "scrolled": true
   },
   "outputs": [],
   "source": [
    "#Renaming the columns\n",
    "column_rename = {'BP': 'Best Position','OVA':'overall value'}\n",
    "fifa_df_filtered = fifa_df_filtered.rename(columns=column_rename)\n",
    "fifa_df_filtered"
   ]
  },
  {
   "cell_type": "code",
   "execution_count": null,
   "id": "da93513b",
   "metadata": {},
   "outputs": [],
   "source": [
    "# Replacing white spaces for '_' and get all column titles in lowercase\n",
    "cols = []\n",
    "for i in range(len(fifa_df_filtered.columns)):\n",
    "    cols.append(fifa_df_filtered.columns[i].lower().replace(' ', '_'))\n",
    "fifa_df_filtered.columns = cols\n",
    "fifa_df_filtered"
   ]
  },
  {
   "cell_type": "code",
   "execution_count": null,
   "id": "f0418ad7",
   "metadata": {},
   "outputs": [],
   "source": [
    "#def convert_position_rating(value):\n",
    "    # If it is a full number, it remains as it is\n",
    "    #if isinstance(value, int):\n",
    "        #return value\n",
    "    \n",
    "    # If the value contains '+', we split it and add it\n",
    "    #if '+' in value:\n",
    "       # base, added = value.split('+')\n",
    "        #return int(base) + int(added)\n",
    "    # If there is no '+', we just convert the value to a full number\n",
    "    #else:\n",
    "        #return int(value)\n",
    "\n",
    "# Columns to apply it\n",
    "#columns_to_process = ['ls', 'st', 'rs', 'lw', 'lf', 'cf', 'rf', 'rw', 'lam',\n",
    "       #'cam', 'ram', 'lm', 'lcm', 'cm', 'rcm', 'rm', 'lwb', 'ldm', 'cdm',\n",
    "       #'rdm', 'rwb', 'lb', 'lcb', 'cb', 'rcb', 'rb','gk']\n",
    "\n",
    "# Applying the function to each column\n",
    "#for col in columns_to_process:\n",
    "    #fifa_df_filtered[col] = fifa_df_filtered[col].apply(convert_position_rating)\n",
    "    "
   ]
  },
  {
   "cell_type": "code",
   "execution_count": null,
   "id": "04bdd4e5",
   "metadata": {},
   "outputs": [],
   "source": [
    "#Check null values\n",
    "fifa_df_filtered.isna().sum()"
   ]
  },
  {
   "cell_type": "code",
   "execution_count": null,
   "id": "c799334d",
   "metadata": {},
   "outputs": [],
   "source": [
    "# Separating numerical data and categorical data\n",
    "cat_df = fifa_df_filtered.select_dtypes(include= 'object')\n",
    "num_df = fifa_df_filtered.select_dtypes(include= np.number)\n"
   ]
  },
  {
   "cell_type": "code",
   "execution_count": null,
   "id": "b5aa77a6",
   "metadata": {},
   "outputs": [],
   "source": [
    "#Applying median for numerical and mode for categorical values to replace null values\n",
    "for col in fifa_df_filtered.columns:\n",
    "        if fifa_df_filtered[col].dtype == 'object':\n",
    "            fifa_df_filtered[col].fillna(fifa_df_filtered[col].mode()[0], inplace=True)\n",
    "        else:\n",
    "            fifa_df_filtered[col].fillna(fifa_df_filtered[col].median(), inplace=True)"
   ]
  },
  {
   "cell_type": "code",
   "execution_count": null,
   "id": "ec20f4f3",
   "metadata": {},
   "outputs": [],
   "source": [
    "# Checking the replacement of the null values\n",
    "null_counts = fifa_df_filtered.isnull().sum()\n",
    "null_counts.sum()\n"
   ]
  },
  {
   "cell_type": "code",
   "execution_count": null,
   "id": "ae05f30c",
   "metadata": {},
   "outputs": [],
   "source": [
    "# Checking the statistics\n",
    "fifa_df_filtered.describe().T"
   ]
  },
  {
   "cell_type": "code",
   "execution_count": null,
   "id": "4d57df93",
   "metadata": {},
   "outputs": [],
   "source": [
    "# Plotting the numerical columns\n",
    "import seaborn as sns\n",
    "import matplotlib.pyplot as plt"
   ]
  },
  {
   "cell_type": "code",
   "execution_count": null,
   "id": "ea799cef",
   "metadata": {},
   "outputs": [],
   "source": [
    "for column in num_df:\n",
    "    sns.displot(num_df[column],kde=True)\n",
    "    plt.show()"
   ]
  },
  {
   "cell_type": "code",
   "execution_count": null,
   "id": "eec6e3b1",
   "metadata": {},
   "outputs": [],
   "source": [
    "# Overall value shows a normalized shapped bell"
   ]
  },
  {
   "cell_type": "code",
   "execution_count": null,
   "id": "7f38ca9e",
   "metadata": {},
   "outputs": [],
   "source": [
    "# Getting correlations descritpion\n",
    "correlations = num_df.corr()\n",
    "correlations"
   ]
  },
  {
   "cell_type": "code",
   "execution_count": null,
   "id": "229f16d3",
   "metadata": {
    "scrolled": false
   },
   "outputs": [],
   "source": [
    "# Getting the correlations map\n",
    "fig, ax=plt.subplots(figsize=(15,10))\n",
    "ax=sns.heatmap(num_df.corr(), annot=True)\n",
    "plt.show()"
   ]
  },
  {
   "cell_type": "code",
   "execution_count": null,
   "id": "2401e101",
   "metadata": {},
   "outputs": [],
   "source": [
    "# There seems to be some Mulicolliniarity regarding some features"
   ]
  },
  {
   "cell_type": "code",
   "execution_count": null,
   "id": "26c66b29",
   "metadata": {
    "scrolled": true
   },
   "outputs": [],
   "source": [
    "fifa_new = fifa_df_filtered\n",
    "fifa_new"
   ]
  },
  {
   "cell_type": "code",
   "execution_count": null,
   "id": "56b8e2a5",
   "metadata": {},
   "outputs": [],
   "source": [
    "# X,y split and target definition\n",
    "\n",
    "X=fifa_new.drop('overall_value', axis=1)     \n",
    "y=fifa_new['overall_value']\n"
   ]
  },
  {
   "cell_type": "code",
   "execution_count": null,
   "id": "507b6c75",
   "metadata": {},
   "outputs": [],
   "source": [
    "# Categorical and numerical split of X\n",
    "X_cat = X.select_dtypes(include= 'object')\n",
    "X_num = X.select_dtypes(include= np.number)"
   ]
  },
  {
   "cell_type": "code",
   "execution_count": null,
   "id": "8665235f",
   "metadata": {},
   "outputs": [],
   "source": [
    "X_num"
   ]
  },
  {
   "cell_type": "code",
   "execution_count": null,
   "id": "e113cc92",
   "metadata": {},
   "outputs": [],
   "source": [
    "#Getting the stats\n",
    "X_num.describe().T"
   ]
  },
  {
   "cell_type": "code",
   "execution_count": null,
   "id": "1ad60901",
   "metadata": {},
   "outputs": [],
   "source": [
    "# importing the library\n",
    "from sklearn.preprocessing import StandardScaler\n",
    "from sklearn.preprocessing import MinMaxScaler"
   ]
  },
  {
   "cell_type": "code",
   "execution_count": null,
   "id": "f4ccd86b",
   "metadata": {},
   "outputs": [],
   "source": [
    "#Scalling using MinMaxScaler\n",
    "transformer = MinMaxScaler().fit(X_num)\n",
    "X_norm = transformer.transform(X_num)\n",
    "print(X_norm.shape)\n",
    "X_num_scale = pd.DataFrame(X_norm, columns=X_num.columns)\n",
    "X_num_scale.head()"
   ]
  },
  {
   "cell_type": "code",
   "execution_count": null,
   "id": "937b2341",
   "metadata": {},
   "outputs": [],
   "source": [
    "# One hot encoded\n",
    "from sklearn.preprocessing import OneHotEncoder"
   ]
  },
  {
   "cell_type": "code",
   "execution_count": null,
   "id": "51b4f304",
   "metadata": {},
   "outputs": [],
   "source": [
    "encoder = OneHotEncoder(drop='first').fit(X_cat)\n",
    "cols = encoder.get_feature_names_out(input_features=X_cat.columns)\n",
    "X_cat_encode = pd.DataFrame(encoder.transform(X_cat).toarray(),columns=cols)\n",
    "X_cat_encode.head()"
   ]
  },
  {
   "cell_type": "code",
   "execution_count": null,
   "id": "9f9b3406",
   "metadata": {},
   "outputs": [],
   "source": [
    "# concat numerical and categorical transformations for features\n",
    "X=pd.concat([X_num_scale, X_cat_encode], axis=1) \n",
    "X.describe()"
   ]
  },
  {
   "cell_type": "code",
   "execution_count": null,
   "id": "cd9efc2d",
   "metadata": {},
   "outputs": [],
   "source": [
    "# Train Test Split\n",
    "from sklearn.model_selection import train_test_split\n",
    "X_train, X_test, y_train, y_test = train_test_split(X, y, test_size=0.10, random_state=42)"
   ]
  },
  {
   "cell_type": "code",
   "execution_count": null,
   "id": "3127019c",
   "metadata": {},
   "outputs": [],
   "source": [
    "print(X_train.shape)\n",
    "print(X_test.shape)\n",
    "print(y_train.shape)\n",
    "print(y_test.shape)"
   ]
  },
  {
   "cell_type": "code",
   "execution_count": null,
   "id": "c2f239ad",
   "metadata": {},
   "outputs": [],
   "source": [
    "X_train.head()"
   ]
  },
  {
   "cell_type": "code",
   "execution_count": null,
   "id": "9bc0ade7",
   "metadata": {},
   "outputs": [],
   "source": [
    "# Train and run model\n",
    "from sklearn.linear_model import LinearRegression as linreg\n",
    "\n",
    "lm = linreg()    # model\n",
    "lm.fit(X_train, y_train)   # model training\n",
    "y_pred = lm.predict(X_test)   # model prediction"
   ]
  },
  {
   "cell_type": "code",
   "execution_count": null,
   "id": "518700b3",
   "metadata": {},
   "outputs": [],
   "source": [
    "# Model Validation"
   ]
  },
  {
   "cell_type": "code",
   "execution_count": null,
   "id": "72ad49f3",
   "metadata": {},
   "outputs": [],
   "source": [
    "print ('train R2: {} -- test R2: {}'.format(lm.score(X_train, y_train),\n",
    "                                            lm.score(X_test, y_test)))"
   ]
  },
  {
   "cell_type": "code",
   "execution_count": null,
   "id": "79a1a350",
   "metadata": {},
   "outputs": [],
   "source": [
    "# MSE\n",
    "from sklearn.metrics import mean_squared_error as mse\n",
    "\n",
    "train_mse=mse(lm.predict(X_train), y_train)\n",
    "test_mse=mse(y_pred, y_test)\n",
    "\n",
    "print ('train MSE: {} -- test MSE: {}'.format(train_mse, test_mse))"
   ]
  },
  {
   "cell_type": "code",
   "execution_count": null,
   "id": "8c9f7969",
   "metadata": {},
   "outputs": [],
   "source": [
    "# RMSE\n",
    "print ('train RMSE: {} -- test RMSE: {}'.format(train_mse**.5, test_mse**.5))"
   ]
  },
  {
   "cell_type": "code",
   "execution_count": null,
   "id": "ec6d4c63",
   "metadata": {},
   "outputs": [],
   "source": [
    "    #MAE\n",
    "    from sklearn.metrics import mean_absolute_error as mae\n",
    "\n",
    "    train_mae=mae(lm.predict(X_train), y_train)\n",
    "    test_mae=mae(y_pred, y_test)\n",
    "\n",
    "    print ('train MAE: {} -- test MAE: {}'.format(train_mae, test_mae))"
   ]
  },
  {
   "cell_type": "code",
   "execution_count": null,
   "id": "87b437a5",
   "metadata": {},
   "outputs": [],
   "source": [
    "# If we increase the sample of data from 0.20 to 0.35 or decrease the sample from 0.20 for 0.10, the r2 score lowers from \n",
    "#0,84 to 0,83, which is not very significant in terms of efectiveness proof of the prediction model."
   ]
  },
  {
   "cell_type": "markdown",
   "id": "856faf0d",
   "metadata": {},
   "source": [
    "# BONUS\n",
    "\n",
    "Try to create a new function called preprocess which\"\n",
    "\n",
    "takes a dataframe as input\n",
    "call all the other group member functions and apply them to the starting dataframe\n",
    "return a clean dataframe."
   ]
  },
  {
   "cell_type": "code",
   "execution_count": null,
   "id": "97771c8c",
   "metadata": {},
   "outputs": [],
   "source": [
    "    # Your code here\n",
    "    def clean_fifa(fifa_new):\n",
    "        n_cols = ['BP','Attacking','Crossing','Short Passing','Skill','Ball Control','FK Accuracy','Movement','Sprint Speed',\n",
    "    'Power','Shot Power', 'Strength', 'Mentality','Composure','Vision','Defending','Standing Tackle','Sliding Tackle','Goalkeeping',\n",
    "    'GK Reflexes','GK Handling','OVA']\n",
    "        for i in range(len(fifa_new.columns)):\n",
    "            n_cols.append(fifa_new.columns[i].lower().replace(' ', '_'))\n",
    "        fifa_new.columns = n_cols\n",
    "        fifa_new = df.rename(columns={'BP': 'Best Position', 'OVA':'overall value'})\n",
    "        #Check null values\n",
    "        fifa_new = df.drop_duplicates()\n",
    "        #Check null values\n",
    "        fifa_new = fifa_df_filtered.isna().sum()\n",
    "        cat_df = fifa_new.select_dtypes(include= 'object')\n",
    "        num_df = fifa_new.select_dtypes(include= np.number)\n",
    "        for col in df.columns:\n",
    "            if fifa_new[col].dtype == 'object':\n",
    "                fifa_new[col].fillna(fifa_new[col].mode()[0], inplace=True)\n",
    "            else:\n",
    "                fifa_new[col].fillna(fifa_new[col].median(), inplace=True)\n",
    "    fifa_new          "
   ]
  },
  {
   "cell_type": "markdown",
   "id": "a68b81f8",
   "metadata": {},
   "source": [
    "# FIFA MODEL VALIDATION"
   ]
  },
  {
   "cell_type": "code",
   "execution_count": null,
   "id": "1f27bb77",
   "metadata": {},
   "outputs": [],
   "source": [
    "\"\"\"\"@canal It’s TIME!!!  The Validation Set is in the Google Drive!!  \n",
    "Remember the process!!  \n",
    "You are receiving new and unseen data to test the model you created.  \n",
    "The actual target column OVA is included in the data.  \n",
    "First do the X,y split.  \n",
    "Then clean, scale, and encode the X exactly like you did the training set. \n",
    "Make sure all of the columns are the same in the same order.  \n",
    "Re-use the scaler, encoder, and model that has already been trained. \n",
    "You should submit your RMSE metric by 12:30.  \n",
    "We will ask the group with the best score to share their process with the whole group.\"\"\""
   ]
  },
  {
   "cell_type": "code",
   "execution_count": null,
   "id": "22b2e28a",
   "metadata": {},
   "outputs": [],
   "source": [
    "import pandas as pd\n",
    "import numpy as np"
   ]
  },
  {
   "cell_type": "code",
   "execution_count": null,
   "id": "7f9d9372",
   "metadata": {},
   "outputs": [],
   "source": [
    "fifa_validation = pd.read_csv('fifa21_validate.csv')\n",
    "fifa_validation"
   ]
  },
  {
   "cell_type": "code",
   "execution_count": null,
   "id": "72030662",
   "metadata": {},
   "outputs": [],
   "source": [
    "columns_to_retain = [\n",
    "    'BP','Attacking','Crossing','Short Passing','Skill','Ball Control','FK Accuracy','Movement','Sprint Speed',\n",
    "    'Power','Shot Power', 'Strength', 'Mentality','Composure','Vision','Defending','Standing Tackle','Sliding Tackle','Goalkeeping',\n",
    "    'GK Reflexes','GK Handling','OVA']\n",
    "\n",
    "        \n",
    "# Now you can use this list to filter your dataframe:\n",
    "fifa_val_filtered = fifa_validation[columns_to_retain]\n",
    "fifa_val_filtered"
   ]
  },
  {
   "cell_type": "code",
   "execution_count": null,
   "id": "79333150",
   "metadata": {},
   "outputs": [],
   "source": [
    "check_duplicates = fifa_val_filtered.duplicated()\n",
    "check_duplicates"
   ]
  },
  {
   "cell_type": "code",
   "execution_count": null,
   "id": "14d90c6d",
   "metadata": {},
   "outputs": [],
   "source": [
    "num_duplicates = check_duplicates.sum()\n",
    "num_duplicates"
   ]
  },
  {
   "cell_type": "code",
   "execution_count": null,
   "id": "5138147a",
   "metadata": {},
   "outputs": [],
   "source": [
    "column_rename = {'BP': 'Best Position','OVA':'overall value'}\n",
    "fifa_val_filtered = fifa_val_filtered.rename(columns=column_rename)\n",
    "fifa_val_filtered"
   ]
  },
  {
   "cell_type": "code",
   "execution_count": null,
   "id": "49af6314",
   "metadata": {},
   "outputs": [],
   "source": [
    "cols = []\n",
    "for i in range(len(fifa_val_filtered.columns)):\n",
    "    cols.append(fifa_val_filtered.columns[i].lower().replace(' ', '_'))\n",
    "fifa_val_filtered.columns = cols\n",
    "fifa_val_filtered"
   ]
  },
  {
   "cell_type": "code",
   "execution_count": null,
   "id": "45a9e422",
   "metadata": {},
   "outputs": [],
   "source": [
    "fifa_val_filtered.isna().sum()"
   ]
  },
  {
   "cell_type": "code",
   "execution_count": null,
   "id": "cc09870b",
   "metadata": {},
   "outputs": [],
   "source": [
    "# Separating numerical data and categorical data\n",
    "cat_df = fifa_val_filtered.select_dtypes(include= 'object')\n",
    "num_df = fifa_val_filtered.select_dtypes(include= np.number)\n",
    "num_df"
   ]
  },
  {
   "cell_type": "code",
   "execution_count": null,
   "id": "9ad577da",
   "metadata": {},
   "outputs": [],
   "source": [
    "#Applying median for numerical and mode for categorical values to replace null values\n",
    "for col in fifa_val_filtered.columns:\n",
    "        if fifa_val_filtered[col].dtype == 'object':\n",
    "            fifa_val_filtered[col].fillna(fifa_val_filtered[col].mode()[0], inplace=True)\n",
    "        else:\n",
    "            fifa_val_filtered[col].fillna(fifa_val_filtered[col].median(), inplace=True)"
   ]
  },
  {
   "cell_type": "code",
   "execution_count": null,
   "id": "11e4e38c",
   "metadata": {},
   "outputs": [],
   "source": [
    "# Checking the replacement of the null values\n",
    "null_counts = fifa_val_filtered.isnull().sum()\n",
    "null_counts.sum()"
   ]
  },
  {
   "cell_type": "code",
   "execution_count": null,
   "id": "8614765a",
   "metadata": {},
   "outputs": [],
   "source": [
    "# X,y split and target definition\n",
    "\n",
    "X_validate =fifa_val_filtered.drop('overall_value', axis=1)     \n",
    "y_validate =fifa_val_filtered['overall_value']"
   ]
  },
  {
   "cell_type": "code",
   "execution_count": null,
   "id": "43ba69ce",
   "metadata": {},
   "outputs": [],
   "source": [
    "# Splitting again into numerical and categorical values\n",
    "X_num_validate=X_validate.select_dtypes(exclude=[\"object\",\"category\"])\n",
    "X_cat_validate=X_validate.select_dtypes(include=[\"object\",\"category\"])\n",
    "\n",
    "print (X_validate.shape, X_num_validate.shape, X_cat_validate.shape, y_validate.shape) "
   ]
  },
  {
   "cell_type": "code",
   "execution_count": null,
   "id": "a59ed097",
   "metadata": {},
   "outputs": [],
   "source": [
    "#Onehot encoding\n",
    "encoded_validate = encoder.transform(X_cat_validate).toarray()\n",
    "cols = encoder.get_feature_names_out(input_features=X_cat_validate.columns)\n",
    "onehot_encoded_validate = pd.DataFrame(encoded_validate, columns=cols)"
   ]
  },
  {
   "cell_type": "code",
   "execution_count": null,
   "id": "3276c02f",
   "metadata": {},
   "outputs": [],
   "source": [
    "# Normalizing data with MinMaxScaler\n",
    "x_normalized_validate = transformer.transform(X_num_validate)\n",
    "print(x_normalized_validate.shape)\n",
    "normalized_df_validate = pd.DataFrame(x_normalized_validate, columns = X_num_validate.columns)\n",
    "normalized_df_validate "
   ]
  },
  {
   "cell_type": "code",
   "execution_count": null,
   "id": "b324cbd2",
   "metadata": {},
   "outputs": [],
   "source": [
    "# Getting both dataframes merged together (Normalized (numerical) and OneHot Encoded(categorical))\n",
    "X_validate = pd.concat([normalized_df_validate, onehot_encoded_validate], axis=1)\n",
    "X_validate"
   ]
  },
  {
   "cell_type": "code",
   "execution_count": null,
   "id": "c34fe354",
   "metadata": {},
   "outputs": [],
   "source": [
    "#Predicting validation X:\n",
    "results_for_validate = lm.predict(X_validate)\n",
    "comparision= pd.concat([fifa_val_filtered,pd.Series(results_for_validate, name='estimate')],axis=1).head()\n",
    "comparision"
   ]
  },
  {
   "cell_type": "code",
   "execution_count": null,
   "id": "a6f4bff6",
   "metadata": {},
   "outputs": [],
   "source": [
    "results_for_validate"
   ]
  },
  {
   "cell_type": "code",
   "execution_count": null,
   "id": "f83e472f",
   "metadata": {},
   "outputs": [],
   "source": [
    "from sklearn.metrics import r2_score\n",
    "\n",
    "# Calculate the R-squared score for validation predictions\n",
    "r2 = r2_score(y_validate, results_for_validate)\n",
    "print(\"R-squared (R2) Score:\", r2)\n"
   ]
  },
  {
   "cell_type": "code",
   "execution_count": null,
   "id": "90b34402",
   "metadata": {},
   "outputs": [],
   "source": [
    "from sklearn.metrics import mean_squared_error, mean_absolute_error, r2_score\n",
    "import numpy as np\n",
    "import math\n",
    "\n",
    "#Mean Absolute Error\n",
    "mae = mean_absolute_error(y_validate, results_for_validate)\n",
    "print (mae)\n"
   ]
  },
  {
   "cell_type": "code",
   "execution_count": null,
   "id": "549af894",
   "metadata": {},
   "outputs": [],
   "source": [
    "# Mean Squared Error\n",
    "mse= mean_squared_error (y_validate, results_for_validate)\n",
    "print (mse)"
   ]
  },
  {
   "cell_type": "code",
   "execution_count": null,
   "id": "91ecf679",
   "metadata": {},
   "outputs": [],
   "source": [
    "# Root Mean Squared Error\n",
    "rmse = math.sqrt(mse)\n",
    "print(rmse)"
   ]
  },
  {
   "cell_type": "code",
   "execution_count": null,
   "id": "2674e520",
   "metadata": {},
   "outputs": [],
   "source": [
    "# The obtained results of R2 score of 0,83 and the rmse of 2,75 shows that this is a quite good predictive model."
   ]
  }
 ],
 "metadata": {
  "kernelspec": {
   "display_name": "Python 3 (ipykernel)",
   "language": "python",
   "name": "python3"
  },
  "language_info": {
   "codemirror_mode": {
    "name": "ipython",
    "version": 3
   },
   "file_extension": ".py",
   "mimetype": "text/x-python",
   "name": "python",
   "nbconvert_exporter": "python",
   "pygments_lexer": "ipython3",
   "version": "3.9.12"
  }
 },
 "nbformat": 4,
 "nbformat_minor": 5
}
