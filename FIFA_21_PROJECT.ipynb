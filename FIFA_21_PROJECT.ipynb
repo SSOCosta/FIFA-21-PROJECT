{
 "cells": [
  {
   "cell_type": "code",
   "execution_count": null,
   "id": "f70c1bae",
   "metadata": {},
   "outputs": [],
   "source": [
    "\"\"\"In the FIFA 21 Project we will try to predict a player's \"Overall Rating\" by analysing data from the following dataset: fifa21_train.csv\n",
    "It can be found in the GDrive.\n",
    "\n",
    "The database is an extract from https://sofifa.com/\n",
    "\n",
    "Explanations of the acronyms and abbreviations can be found here and here"
   ]
  }
 ],
 "metadata": {
  "kernelspec": {
   "display_name": "Python 3 (ipykernel)",
   "language": "python",
   "name": "python3"
  },
  "language_info": {
   "codemirror_mode": {
    "name": "ipython",
    "version": 3
   },
   "file_extension": ".py",
   "mimetype": "text/x-python",
   "name": "python",
   "nbconvert_exporter": "python",
   "pygments_lexer": "ipython3",
   "version": "3.9.12"
  }
 },
 "nbformat": 4,
 "nbformat_minor": 5
}
