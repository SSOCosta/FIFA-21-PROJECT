{
 "cells": [
  {
   "cell_type": "code",
   "execution_count": null,
   "id": "f70c1bae",
   "metadata": {},
   "outputs": [],
   "source": [
    "\"\"\"In the FIFA 21 Project we will try to predict a player's \"Overall Rating\" by analysing data from the following dataset: fifa21_train.csv\n",
    "It can be found in the GDrive.\n",
    "\n",
    "The database is an extract from https://sofifa.com/\n",
    "\n",
    "Explanations of the acronyms and abbreviations can be found here and here\"\"\""
   ]
  },
  {
   "cell_type": "code",
   "execution_count": null,
   "id": "9fb85d6e",
   "metadata": {},
   "outputs": [],
   "source": [
    "import pandas as pd\n",
    "import numpy as np"
   ]
  },
  {
   "cell_type": "code",
   "execution_count": null,
   "id": "f0cf2fea",
   "metadata": {},
   "outputs": [],
   "source": [
    "df = pd.read_csv('fifa21_train.csv')\n",
    "df"
   ]
  },
  {
   "cell_type": "code",
   "execution_count": null,
   "id": "32055450",
   "metadata": {},
   "outputs": [],
   "source": [
    "column_names = df.columns.tolist()\n",
    "column_names"
   ]
  },
  {
   "cell_type": "code",
   "execution_count": null,
   "id": "bea3e6ab",
   "metadata": {},
   "outputs": [],
   "source": [
    "fifa_df = df.copy()\n",
    "fifa_df"
   ]
  },
  {
   "cell_type": "code",
   "execution_count": null,
   "id": "c86bd623",
   "metadata": {},
   "outputs": [],
   "source": [
    "#columns_to_retain = [\n",
    "    #'BP', 'Position',\n",
    "    #'Attacking', 'Skill', 'Movement', 'Power', 'Mentality', 'Composure',\n",
    "     #'Defending','Goalkeeping', 'OVA','LS', 'ST', 'RS', 'LW', 'LF', 'CF',\n",
    "     #'RF', 'RW', 'LAM', 'CAM', 'RAM', 'LM', 'LCM', 'CM', 'RCM', 'RM', 'LWB',\n",
    "     #'LDM', 'CDM', 'RDM', 'RWB', 'LB', 'LCB', 'CB', 'RCB', 'RB', 'GK',]\n",
    "\n",
    "columns_to_retain = [\n",
    "    'BP', 'Position',\n",
    "    'Attacking', 'Skill', 'Movement', 'Power', 'Mentality', 'Composure',\n",
    "     'Defending','Goalkeeping', 'OVA']\n",
    "\n",
    "        \n",
    "# Now you can use this list to filter your dataframe:\n",
    "fifa_df_filtered = fifa_df[columns_to_retain]\n",
    "fifa_df_filtered"
   ]
  },
  {
   "cell_type": "code",
   "execution_count": null,
   "id": "cf93e9ca",
   "metadata": {},
   "outputs": [],
   "source": [
    "check_duplicates = fifa_df_filtered.duplicated()\n",
    "check_duplicates"
   ]
  },
  {
   "cell_type": "code",
   "execution_count": null,
   "id": "03e8427e",
   "metadata": {},
   "outputs": [],
   "source": [
    "num_duplicates = check_duplicates.sum()\n",
    "num_duplicates"
   ]
  },
  {
   "cell_type": "code",
   "execution_count": null,
   "id": "cdfed55b",
   "metadata": {
    "scrolled": true
   },
   "outputs": [],
   "source": [
    "column_rename = {'BP': 'Best Position', 'OVA':'overall value'}\n",
    "fifa_df_filtered = fifa_df_filtered.rename(columns=column_rename)\n",
    "fifa_df_filtered"
   ]
  },
  {
   "cell_type": "code",
   "execution_count": null,
   "id": "da93513b",
   "metadata": {},
   "outputs": [],
   "source": [
    "cols = []\n",
    "for i in range(len(fifa_df_filtered.columns)):\n",
    "    cols.append(fifa_df_filtered.columns[i].lower().replace(' ', '_'))\n",
    "fifa_df_filtered.columns = cols\n",
    "fifa_df_filtered"
   ]
  },
  {
   "cell_type": "code",
   "execution_count": null,
   "id": "41378acb",
   "metadata": {},
   "outputs": [],
   "source": [
    "#def convert_position_rating(value):\n",
    "    # if it is a full number it remains as it is\n",
    "    #if isinstance(value, int):\n",
    "        #return value\n",
    "    \n",
    "    # If the value contaisn '+', we split it and add it\n",
    "    #if '+' in value:\n",
    "        #base, added = value.split('+')\n",
    "        #return int(base) + int(added)\n",
    "    # If there is no '+', we just convert the value to full number\n",
    "    #else:\n",
    "        #return int(value)\n",
    "\n",
    "# Columns to apply it\n",
    "#columns_to_process = ['ls', 'st', 'rs', 'lw', 'lf', 'cf', 'rf', 'rw', 'lam',\n",
    "       #'cam', 'ram', 'lm', 'lcm', 'cm', 'rcm', 'rm', 'lwb', 'ldm', 'cdm',\n",
    "       #'rdm', 'rwb', 'lb', 'lcb', 'cb', 'rcb', 'rb']\n",
    "\n",
    "# Applying the function to each column\n",
    "#for col in columns_to_process:\n",
    "    #fifa_df_filtered[col] = fifa_df_filtered[col].apply(convert_position_rating)\n",
    "#fifa_df_filtered"
   ]
  },
  {
   "cell_type": "code",
   "execution_count": null,
   "id": "04bdd4e5",
   "metadata": {},
   "outputs": [],
   "source": [
    "#Check null values\n",
    "fifa_df_filtered.isna().sum()"
   ]
  },
  {
   "cell_type": "code",
   "execution_count": null,
   "id": "c799334d",
   "metadata": {},
   "outputs": [],
   "source": [
    "# Separating numerical data and categorical data\n",
    "cat_df = fifa_df_filtered.select_dtypes(include= 'object')\n",
    "num_df = fifa_df_filtered.select_dtypes(include= np.number)\n"
   ]
  },
  {
   "cell_type": "code",
   "execution_count": null,
   "id": "b5aa77a6",
   "metadata": {},
   "outputs": [],
   "source": [
    "#Applying median for numerical and mode for categorical values to replace null values\n",
    "for col in fifa_df_filtered.columns:\n",
    "        if fifa_df_filtered[col].dtype == 'object':\n",
    "            fifa_df_filtered[col].fillna(fifa_df_filtered[col].mode()[0], inplace=True)\n",
    "        else:\n",
    "            fifa_df_filtered[col].fillna(fifa_df_filtered[col].median(), inplace=True)"
   ]
  },
  {
   "cell_type": "code",
   "execution_count": null,
   "id": "ec20f4f3",
   "metadata": {},
   "outputs": [],
   "source": [
    "# Checking the replacement of the null values\n",
    "null_counts = fifa_df_filtered.isnull().sum()\n",
    "null_counts.sum()\n"
   ]
  },
  {
   "cell_type": "code",
   "execution_count": null,
   "id": "ae05f30c",
   "metadata": {},
   "outputs": [],
   "source": [
    "# Checking the statistics\n",
    "fifa_df_filtered.describe().T"
   ]
  },
  {
   "cell_type": "code",
   "execution_count": null,
   "id": "4d57df93",
   "metadata": {},
   "outputs": [],
   "source": [
    "# Plotting the numerical columns\n",
    "import seaborn as sns\n",
    "import matplotlib.pyplot as plt"
   ]
  },
  {
   "cell_type": "code",
   "execution_count": null,
   "id": "ea799cef",
   "metadata": {},
   "outputs": [],
   "source": [
    "for column in num_df:\n",
    "    sns.displot(num_df[column],kde=True)\n",
    "    plt.show()"
   ]
  },
  {
   "cell_type": "code",
   "execution_count": null,
   "id": "eec6e3b1",
   "metadata": {},
   "outputs": [],
   "source": [
    "# Overall value shows a normalized shapped bell"
   ]
  },
  {
   "cell_type": "code",
   "execution_count": null,
   "id": "7f38ca9e",
   "metadata": {},
   "outputs": [],
   "source": [
    "# Getting correlations descritpion\n",
    "correlations = num_df.corr()\n",
    "correlations"
   ]
  },
  {
   "cell_type": "code",
   "execution_count": null,
   "id": "229f16d3",
   "metadata": {
    "scrolled": false
   },
   "outputs": [],
   "source": [
    "fig, ax=plt.subplots(figsize=(12,15))\n",
    "ax=sns.heatmap(num_df.corr(), annot=True)\n",
    "plt.show()"
   ]
  },
  {
   "cell_type": "code",
   "execution_count": null,
   "id": "2401e101",
   "metadata": {},
   "outputs": [],
   "source": [
    "# There seems to be some Mulicolliniarity"
   ]
  },
  {
   "cell_type": "code",
   "execution_count": null,
   "id": "26c66b29",
   "metadata": {
    "scrolled": true
   },
   "outputs": [],
   "source": [
    "fifa_new = fifa_df_filtered\n",
    "fifa_new"
   ]
  },
  {
   "cell_type": "code",
   "execution_count": null,
   "id": "56b8e2a5",
   "metadata": {},
   "outputs": [],
   "source": [
    "# X,y split and target definition\n",
    "\n",
    "X=fifa_new.drop('overall_value', axis=1)     \n",
    "y=fifa_new['overall_value']\n"
   ]
  },
  {
   "cell_type": "code",
   "execution_count": null,
   "id": "507b6c75",
   "metadata": {},
   "outputs": [],
   "source": [
    "# Categorical and numerical split of X\n",
    "X_cat = X.select_dtypes(include= 'object')\n",
    "X_num = X.select_dtypes(include= np.number)"
   ]
  },
  {
   "cell_type": "code",
   "execution_count": null,
   "id": "8665235f",
   "metadata": {},
   "outputs": [],
   "source": [
    "X_num"
   ]
  },
  {
   "cell_type": "code",
   "execution_count": null,
   "id": "e113cc92",
   "metadata": {},
   "outputs": [],
   "source": [
    "#Getting the stats\n",
    "X_num.describe().T"
   ]
  },
  {
   "cell_type": "code",
   "execution_count": null,
   "id": "1ad60901",
   "metadata": {},
   "outputs": [],
   "source": [
    "# importing the library\n",
    "from sklearn.preprocessing import StandardScaler\n",
    "from sklearn.preprocessing import MinMaxScaler"
   ]
  },
  {
   "cell_type": "code",
   "execution_count": null,
   "id": "f4ccd86b",
   "metadata": {},
   "outputs": [],
   "source": [
    "#Scalling using MinMax\n",
    "transformer = StandardScaler().fit(X_num)\n",
    "X_standard = transformer.transform(X_num)\n",
    "print(X_standard.shape)\n",
    "X_num_standard = pd.DataFrame(X_standard, columns=X_num.columns)\n",
    "X_num_standard.head()"
   ]
  },
  {
   "cell_type": "code",
   "execution_count": null,
   "id": "937b2341",
   "metadata": {},
   "outputs": [],
   "source": [
    "# One hot encoded\n",
    "from sklearn.preprocessing import OneHotEncoder"
   ]
  },
  {
   "cell_type": "code",
   "execution_count": null,
   "id": "51b4f304",
   "metadata": {},
   "outputs": [],
   "source": [
    "encoder = OneHotEncoder(drop='first').fit(X_cat)\n",
    "\n",
    "cols = encoder.get_feature_names_out(input_features=X_cat.columns)\n",
    "\n",
    "X_cat_encode = pd.DataFrame(encoder.transform(X_cat).toarray(),columns=cols)\n",
    "\n",
    "X_cat_encode.head()"
   ]
  },
  {
   "cell_type": "code",
   "execution_count": null,
   "id": "9f9b3406",
   "metadata": {},
   "outputs": [],
   "source": [
    "# concat numerical and categorical transformations for features\n",
    "X=pd.concat([X_num_standard, X_cat_encode], axis=1) \n",
    "X.describe()"
   ]
  },
  {
   "cell_type": "code",
   "execution_count": null,
   "id": "cd9efc2d",
   "metadata": {},
   "outputs": [],
   "source": [
    "# Train Test Split\n",
    "from sklearn.model_selection import train_test_split as tts\n",
    "\n",
    "from sklearn.model_selection import train_test_split\n",
    "X_train, X_test, y_train, y_test = train_test_split(X, y, test_size=0.20, random_state=42)"
   ]
  },
  {
   "cell_type": "code",
   "execution_count": null,
   "id": "3127019c",
   "metadata": {},
   "outputs": [],
   "source": [
    "print(X_train.shape)\n",
    "print(X_test.shape)\n",
    "print(y_train.shape)\n",
    "print(y_test.shape)"
   ]
  },
  {
   "cell_type": "code",
   "execution_count": null,
   "id": "c2f239ad",
   "metadata": {},
   "outputs": [],
   "source": [
    "X_train.head()"
   ]
  },
  {
   "cell_type": "code",
   "execution_count": null,
   "id": "9bc0ade7",
   "metadata": {},
   "outputs": [],
   "source": [
    "# Train and run model\n",
    "from sklearn.linear_model import LinearRegression as linreg\n",
    "\n",
    "lm = linreg()    # model\n",
    "lm.fit(X_train, y_train)   # model training\n",
    "y_pred = lm.predict(X_test)   # model prediction"
   ]
  },
  {
   "cell_type": "code",
   "execution_count": null,
   "id": "518700b3",
   "metadata": {},
   "outputs": [],
   "source": [
    "# Model Validation"
   ]
  },
  {
   "cell_type": "code",
   "execution_count": null,
   "id": "72ad49f3",
   "metadata": {},
   "outputs": [],
   "source": [
    "print ('train R2: {} -- test R2: {}'.format(lm.score(X_train, y_train),\n",
    "                                            lm.score(X_test, y_test)))"
   ]
  },
  {
   "cell_type": "code",
   "execution_count": null,
   "id": "79a1a350",
   "metadata": {},
   "outputs": [],
   "source": [
    "# MSE\n",
    "from sklearn.metrics import mean_squared_error as mse\n",
    "\n",
    "train_mse=mse(lm.predict(X_train), y_train)\n",
    "test_mse=mse(y_pred, y_test)\n",
    "\n",
    "print ('train MSE: {} -- test MSE: {}'.format(train_mse, test_mse))"
   ]
  },
  {
   "cell_type": "code",
   "execution_count": null,
   "id": "8c9f7969",
   "metadata": {},
   "outputs": [],
   "source": [
    "# RMSE\n",
    "print ('train RMSE: {} -- test RMSE: {}'.format(train_mse**.5, test_mse**.5))"
   ]
  },
  {
   "cell_type": "code",
   "execution_count": null,
   "id": "ec6d4c63",
   "metadata": {},
   "outputs": [],
   "source": [
    "#MAE\n",
    "from sklearn.metrics import mean_absolute_error as mae\n",
    "\n",
    "train_mae=mae(lm.predict(X_train), y_train)\n",
    "test_mae=mae(y_pred, y_test)\n",
    "\n",
    "print ('train MAE: {} -- test MAE: {}'.format(train_mae, test_mae))"
   ]
  },
  {
   "cell_type": "markdown",
   "id": "856faf0d",
   "metadata": {},
   "source": [
    "# BONUS\n",
    "\n",
    "Try to create a new function called preprocess which\"\n",
    "\n",
    "takes a dataframe as input\n",
    "call all the other group member functions and apply them to the starting dataframe\n",
    "return a clean dataframe."
   ]
  },
  {
   "cell_type": "code",
   "execution_count": null,
   "id": "97771c8c",
   "metadata": {},
   "outputs": [],
   "source": [
    "    # Your code here\n",
    "    def clean_fifa(fifa_new):\n",
    "        n_cols = ['BP', 'Position',\n",
    "    'Attacking', 'Skill', 'Movement', 'Power', 'Mentality', 'Composure',\n",
    "     'Defending','Goalkeeping', 'OVA']\n",
    "        for i in range(len(fifa_new.columns)):\n",
    "            n_cols.append(fifa_new.columns[i].lower().replace(' ', '_'))\n",
    "        fifa_new.columns = n_cols\n",
    "        fifa_new = df.rename(columns={'BP': 'Best Position', 'OVA':'overall value'})\n",
    "        fifa_new = df.drop_duplicates()\n",
    "        cat_df = df.select_dtypes(include= 'object')\n",
    "        num_df = df.select_dtypes(include= np.number)\n",
    "        for col in df.columns:\n",
    "            if fifa_new[col].dtype == 'object':\n",
    "                fifa_new[col].fillna(fifa_new[col].mode()[0], inplace=True)\n",
    "            else:\n",
    "                fifa_new[col].fillna(fifa_new[col].median(), inplace=True)\n",
    "    fifa_new          "
   ]
  },
  {
   "cell_type": "code",
   "execution_count": null,
   "id": "e0035505",
   "metadata": {},
   "outputs": [],
   "source": []
  },
  {
   "cell_type": "code",
   "execution_count": null,
   "id": "3d027ca2",
   "metadata": {},
   "outputs": [],
   "source": []
  },
  {
   "cell_type": "code",
   "execution_count": null,
   "id": "41fed3de",
   "metadata": {},
   "outputs": [],
   "source": []
  },
  {
   "cell_type": "code",
   "execution_count": null,
   "id": "e6280f89",
   "metadata": {},
   "outputs": [],
   "source": []
  }
 ],
 "metadata": {
  "kernelspec": {
   "display_name": "Python 3 (ipykernel)",
   "language": "python",
   "name": "python3"
  },
  "language_info": {
   "codemirror_mode": {
    "name": "ipython",
    "version": 3
   },
   "file_extension": ".py",
   "mimetype": "text/x-python",
   "name": "python",
   "nbconvert_exporter": "python",
   "pygments_lexer": "ipython3",
   "version": "3.9.12"
  }
 },
 "nbformat": 4,
 "nbformat_minor": 5
}
